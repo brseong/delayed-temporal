{
 "cells": [
  {
   "cell_type": "code",
   "execution_count": 1,
   "id": "82e46001",
   "metadata": {},
   "outputs": [],
   "source": [
    "from spikingjelly.activation_based.neuron import ParametricLIFNode, LIFNode, BaseNode\n",
    "from jaxtyping import Float, Int\n",
    "from torch import Tensor\n",
    "\n",
    "import torch\n",
    "import matplotlib.pyplot as plt\n",
    "import numpy as np\n",
    "import spikingjelly.activation_based as snn\n",
    "from spikingjelly.activation_based import surrogate, neuron, functional\n",
    "from typing import Callable, Any, overload\n",
    "from tqdm.auto import tqdm\n",
    "from sklearn.model_selection import train_test_split\n",
    "\n",
    "from utils.datasets import generate_lp_dataset, encode_temporal"
   ]
  },
  {
   "cell_type": "code",
   "execution_count": 2,
   "id": "7f05c7bb",
   "metadata": {},
   "outputs": [],
   "source": [
    "device = torch.device(\"cuda\" if torch.cuda.is_available() else \"cpu\")\n",
    "\n",
    "np.random.seed(42)\n",
    "rng = torch.manual_seed(42)"
   ]
  },
  {
   "cell_type": "code",
   "execution_count": 3,
   "id": "7c5718cd",
   "metadata": {},
   "outputs": [],
   "source": [
    "class TransposeLayer(torch.nn.Module):\n",
    "    dims: tuple[int, int]\n",
    "\n",
    "    def __init__(self, dims: tuple[int, int]) -> None:\n",
    "        super().__init__()\n",
    "        self.dims = dims\n",
    "\n",
    "    def forward(self, input: torch.Tensor) -> torch.Tensor:\n",
    "        return input.transpose(*self.dims)\n",
    "\n",
    "class PrintLayer(torch.nn.Module):\n",
    "    def __init__(self) -> None:\n",
    "        super().__init__()\n",
    "\n",
    "    def forward(self, input: torch.Tensor) -> torch.Tensor:\n",
    "        print(input.shape)\n",
    "        return input"
   ]
  },
  {
   "cell_type": "code",
   "execution_count": 21,
   "id": "43c81986",
   "metadata": {},
   "outputs": [],
   "source": [
    "class CCN(torch.nn.Module):\n",
    "    def __init__(self,\n",
    "                 vector_dim:int,\n",
    "                 cc_acc:int,\n",
    "                 feature_dims:list[int]):\n",
    "        \"\"\"\n",
    "        Cross-correlation network initialization.\n",
    "        \n",
    "        :param self: 설명\n",
    "        :param input_dim: ...\n",
    "        :param n_acc: 설명\n",
    "        \"\"\"\n",
    "        super(CCN, self).__init__()\n",
    "        self.vector_dim = vector_dim\n",
    "        self.cc_acc = cc_acc\n",
    "        self.feature_dims = feature_dims\n",
    "        \n",
    "        self.model = torch.nn.Sequential(\n",
    "            torch.nn.Unflatten(2, (2, self.vector_dim)), # T,N,2D -> T,N,2,D\n",
    "            TransposeLayer((2,3)),\n",
    "            torch.nn.Linear(2, self.cc_acc, bias=False),\n",
    "            ParametricLIFNode(v_reset=None, surrogate_function=surrogate.Sigmoid()),\n",
    "            torch.nn.Flatten(start_dim=2)\n",
    "        )\n",
    "        # Use ParametricLIF only in first layer\n",
    "        feature_dims = [self.cc_acc * self.vector_dim] + self.feature_dims\n",
    "        for in_dim, out_dim in zip(feature_dims[:-1], feature_dims[1:]):\n",
    "            self.model.append(torch.nn.Linear(in_dim, out_dim))\n",
    "            self.model.append(LIFNode(v_reset=None, surrogate_function=surrogate.Sigmoid()))\n",
    "        \n",
    "\n",
    "    def forward(self, x:Float[Tensor, \"T N 2D\"], return_rate:bool=True, reset:bool=True):\n",
    "        \"\"\"\n",
    "        Compute the correlation between two input tensors.\n",
    "        \n",
    "        :param self: 설명\n",
    "        :param x: 설명\n",
    "        :type x: torch.Tensor\n",
    "        \"\"\"\n",
    "        if reset:\n",
    "            for layer in self.model:\n",
    "                if isinstance(layer, BaseNode):\n",
    "                    layer.reset()\n",
    "        x = self.model(x)\n",
    "        # print(x[:,0,...])\n",
    "        if return_rate:\n",
    "            x = x.mean(dim=0)\n",
    "        return x\n"
   ]
  },
  {
   "cell_type": "code",
   "execution_count": 22,
   "id": "9306340b",
   "metadata": {},
   "outputs": [
    {
     "data": {
      "text/plain": [
       "CCN(\n",
       "  (model): Sequential(\n",
       "    (0): Unflatten(dim=2, unflattened_size=(2, 10))\n",
       "    (1): TransposeLayer()\n",
       "    (2): Linear(in_features=2, out_features=5, bias=False)\n",
       "    (3): ParametricLIFNode(\n",
       "      v_threshold=1.0, v_reset=None, detach_reset=False, step_mode=s, backend=torch, tau=2.0\n",
       "      (surrogate_function): Sigmoid(alpha=4.0, spiking=True)\n",
       "    )\n",
       "    (4): Flatten(start_dim=2, end_dim=-1)\n",
       "    (5): Linear(in_features=50, out_features=3, bias=True)\n",
       "    (6): LIFNode(\n",
       "      v_threshold=1.0, v_reset=None, detach_reset=False, step_mode=s, backend=torch, tau=2.0\n",
       "      (surrogate_function): Sigmoid(alpha=4.0, spiking=True)\n",
       "    )\n",
       "    (7): Linear(in_features=3, out_features=1, bias=True)\n",
       "    (8): LIFNode(\n",
       "      v_threshold=1.0, v_reset=None, detach_reset=False, step_mode=s, backend=torch, tau=2.0\n",
       "      (surrogate_function): Sigmoid(alpha=4.0, spiking=True)\n",
       "    )\n",
       "  )\n",
       ")"
      ]
     },
     "execution_count": 22,
     "metadata": {},
     "output_type": "execute_result"
    }
   ],
   "source": [
    "NUM_SAMPLES = 10000  # 총 1000 개의 샘플 생성\n",
    "VECTOR_DIM = 10      # 각 벡터는 10차원\n",
    "MAX_VAL = 10.0\n",
    "TIME_STEPS = 20     # SNN을 20 타임스텝 동안 실행\n",
    "\n",
    "model = CCN(vector_dim = VECTOR_DIM, cc_acc=5, feature_dims=[3, 1]).to(device)\n",
    "model"
   ]
  },
  {
   "cell_type": "code",
   "execution_count": 23,
   "id": "783028a4",
   "metadata": {},
   "outputs": [
    {
     "data": {
      "application/vnd.jupyter.widget-view+json": {
       "model_id": "e92a90071a6a494a8d6db915f51eb153",
       "version_major": 2,
       "version_minor": 0
      },
      "text/plain": [
       "  0%|          | 0/20 [00:00<?, ?it/s]"
      ]
     },
     "metadata": {},
     "output_type": "display_data"
    },
    {
     "data": {
      "application/vnd.jupyter.widget-view+json": {
       "model_id": "89d25683b0544d6e933dc640704cb0a7",
       "version_major": 2,
       "version_minor": 0
      },
      "text/plain": [
       "  0%|          | 0/250 [00:00<?, ?it/s]"
      ]
     },
     "metadata": {},
     "output_type": "display_data"
    },
    {
     "data": {
      "application/vnd.jupyter.widget-view+json": {
       "model_id": "a5f7ecd3d3bf4cbc9067a2ac5e1fe905",
       "version_major": 2,
       "version_minor": 0
      },
      "text/plain": [
       "  0%|          | 0/63 [00:00<?, ?it/s]"
      ]
     },
     "metadata": {},
     "output_type": "display_data"
    },
    {
     "data": {
      "application/vnd.jupyter.widget-view+json": {
       "model_id": "839164f261f54367962c2540737aba09",
       "version_major": 2,
       "version_minor": 0
      },
      "text/plain": [
       "  0%|          | 0/250 [00:00<?, ?it/s]"
      ]
     },
     "metadata": {},
     "output_type": "display_data"
    },
    {
     "data": {
      "application/vnd.jupyter.widget-view+json": {
       "model_id": "cec421bdfb574f4fa58c6c58f047c20c",
       "version_major": 2,
       "version_minor": 0
      },
      "text/plain": [
       "  0%|          | 0/63 [00:00<?, ?it/s]"
      ]
     },
     "metadata": {},
     "output_type": "display_data"
    },
    {
     "data": {
      "application/vnd.jupyter.widget-view+json": {
       "model_id": "909a1ef1491a413b9802c8e3d2d4f06b",
       "version_major": 2,
       "version_minor": 0
      },
      "text/plain": [
       "  0%|          | 0/250 [00:00<?, ?it/s]"
      ]
     },
     "metadata": {},
     "output_type": "display_data"
    },
    {
     "data": {
      "application/vnd.jupyter.widget-view+json": {
       "model_id": "e4259139826b4311b007a4a5d5809ea7",
       "version_major": 2,
       "version_minor": 0
      },
      "text/plain": [
       "  0%|          | 0/63 [00:00<?, ?it/s]"
      ]
     },
     "metadata": {},
     "output_type": "display_data"
    },
    {
     "data": {
      "application/vnd.jupyter.widget-view+json": {
       "model_id": "e353d4716d2d4ffe8a81ab25c8607c50",
       "version_major": 2,
       "version_minor": 0
      },
      "text/plain": [
       "  0%|          | 0/250 [00:00<?, ?it/s]"
      ]
     },
     "metadata": {},
     "output_type": "display_data"
    },
    {
     "data": {
      "application/vnd.jupyter.widget-view+json": {
       "model_id": "1d68a56eca274f82a684664501578365",
       "version_major": 2,
       "version_minor": 0
      },
      "text/plain": [
       "  0%|          | 0/63 [00:00<?, ?it/s]"
      ]
     },
     "metadata": {},
     "output_type": "display_data"
    },
    {
     "data": {
      "application/vnd.jupyter.widget-view+json": {
       "model_id": "d599ab0af8cc4b5a9efe43ddc91b6a68",
       "version_major": 2,
       "version_minor": 0
      },
      "text/plain": [
       "  0%|          | 0/250 [00:00<?, ?it/s]"
      ]
     },
     "metadata": {},
     "output_type": "display_data"
    },
    {
     "data": {
      "application/vnd.jupyter.widget-view+json": {
       "model_id": "6b7e88f5a6944d6ebd987c2446a58514",
       "version_major": 2,
       "version_minor": 0
      },
      "text/plain": [
       "  0%|          | 0/63 [00:00<?, ?it/s]"
      ]
     },
     "metadata": {},
     "output_type": "display_data"
    },
    {
     "data": {
      "application/vnd.jupyter.widget-view+json": {
       "model_id": "fca990d0bc3d449ca2616ff6271bd77f",
       "version_major": 2,
       "version_minor": 0
      },
      "text/plain": [
       "  0%|          | 0/250 [00:00<?, ?it/s]"
      ]
     },
     "metadata": {},
     "output_type": "display_data"
    },
    {
     "data": {
      "application/vnd.jupyter.widget-view+json": {
       "model_id": "dafc6588cb5f4b89a728bccf2d693bb4",
       "version_major": 2,
       "version_minor": 0
      },
      "text/plain": [
       "  0%|          | 0/63 [00:00<?, ?it/s]"
      ]
     },
     "metadata": {},
     "output_type": "display_data"
    },
    {
     "data": {
      "application/vnd.jupyter.widget-view+json": {
       "model_id": "00471f9bbd434974a2886647e1492bbd",
       "version_major": 2,
       "version_minor": 0
      },
      "text/plain": [
       "  0%|          | 0/250 [00:00<?, ?it/s]"
      ]
     },
     "metadata": {},
     "output_type": "display_data"
    },
    {
     "data": {
      "application/vnd.jupyter.widget-view+json": {
       "model_id": "4f0296bdf8ce4b49bccef5840bcffe46",
       "version_major": 2,
       "version_minor": 0
      },
      "text/plain": [
       "  0%|          | 0/63 [00:00<?, ?it/s]"
      ]
     },
     "metadata": {},
     "output_type": "display_data"
    },
    {
     "data": {
      "application/vnd.jupyter.widget-view+json": {
       "model_id": "57f8caba0f7441fc8fd561f74be1d9b3",
       "version_major": 2,
       "version_minor": 0
      },
      "text/plain": [
       "  0%|          | 0/250 [00:00<?, ?it/s]"
      ]
     },
     "metadata": {},
     "output_type": "display_data"
    },
    {
     "data": {
      "application/vnd.jupyter.widget-view+json": {
       "model_id": "736daca761d444818db7130b395c9b17",
       "version_major": 2,
       "version_minor": 0
      },
      "text/plain": [
       "  0%|          | 0/63 [00:00<?, ?it/s]"
      ]
     },
     "metadata": {},
     "output_type": "display_data"
    },
    {
     "data": {
      "application/vnd.jupyter.widget-view+json": {
       "model_id": "8bd25af3355141bb995983d09f06bbc4",
       "version_major": 2,
       "version_minor": 0
      },
      "text/plain": [
       "  0%|          | 0/250 [00:00<?, ?it/s]"
      ]
     },
     "metadata": {},
     "output_type": "display_data"
    },
    {
     "data": {
      "application/vnd.jupyter.widget-view+json": {
       "model_id": "70eed39880fe46319343974ec95051cf",
       "version_major": 2,
       "version_minor": 0
      },
      "text/plain": [
       "  0%|          | 0/63 [00:00<?, ?it/s]"
      ]
     },
     "metadata": {},
     "output_type": "display_data"
    },
    {
     "data": {
      "application/vnd.jupyter.widget-view+json": {
       "model_id": "858d94c53ac84291b041ca7a43cd40a2",
       "version_major": 2,
       "version_minor": 0
      },
      "text/plain": [
       "  0%|          | 0/250 [00:00<?, ?it/s]"
      ]
     },
     "metadata": {},
     "output_type": "display_data"
    },
    {
     "data": {
      "application/vnd.jupyter.widget-view+json": {
       "model_id": "ae31095a58cd497f91c47984c1df30b0",
       "version_major": 2,
       "version_minor": 0
      },
      "text/plain": [
       "  0%|          | 0/63 [00:00<?, ?it/s]"
      ]
     },
     "metadata": {},
     "output_type": "display_data"
    },
    {
     "data": {
      "application/vnd.jupyter.widget-view+json": {
       "model_id": "2e3d3553081c4741b8527d7a557e1647",
       "version_major": 2,
       "version_minor": 0
      },
      "text/plain": [
       "  0%|          | 0/250 [00:00<?, ?it/s]"
      ]
     },
     "metadata": {},
     "output_type": "display_data"
    },
    {
     "data": {
      "application/vnd.jupyter.widget-view+json": {
       "model_id": "00f3b7a03143421280239e0d6c62b902",
       "version_major": 2,
       "version_minor": 0
      },
      "text/plain": [
       "  0%|          | 0/63 [00:00<?, ?it/s]"
      ]
     },
     "metadata": {},
     "output_type": "display_data"
    },
    {
     "data": {
      "application/vnd.jupyter.widget-view+json": {
       "model_id": "90ab11b7b0c24ce99eba0dd31f3d5803",
       "version_major": 2,
       "version_minor": 0
      },
      "text/plain": [
       "  0%|          | 0/250 [00:00<?, ?it/s]"
      ]
     },
     "metadata": {},
     "output_type": "display_data"
    },
    {
     "data": {
      "application/vnd.jupyter.widget-view+json": {
       "model_id": "0aa5de8e49144c269bd1ce1dd1e23fbb",
       "version_major": 2,
       "version_minor": 0
      },
      "text/plain": [
       "  0%|          | 0/63 [00:00<?, ?it/s]"
      ]
     },
     "metadata": {},
     "output_type": "display_data"
    },
    {
     "data": {
      "application/vnd.jupyter.widget-view+json": {
       "model_id": "981194d8eb0f4a75843f6e0f1c362a2d",
       "version_major": 2,
       "version_minor": 0
      },
      "text/plain": [
       "  0%|          | 0/250 [00:00<?, ?it/s]"
      ]
     },
     "metadata": {},
     "output_type": "display_data"
    },
    {
     "data": {
      "application/vnd.jupyter.widget-view+json": {
       "model_id": "45cd34164e354aadb049f0f1fc26ff5f",
       "version_major": 2,
       "version_minor": 0
      },
      "text/plain": [
       "  0%|          | 0/63 [00:00<?, ?it/s]"
      ]
     },
     "metadata": {},
     "output_type": "display_data"
    },
    {
     "data": {
      "application/vnd.jupyter.widget-view+json": {
       "model_id": "16a6b50e221148a09e235003272e4d75",
       "version_major": 2,
       "version_minor": 0
      },
      "text/plain": [
       "  0%|          | 0/250 [00:00<?, ?it/s]"
      ]
     },
     "metadata": {},
     "output_type": "display_data"
    },
    {
     "data": {
      "application/vnd.jupyter.widget-view+json": {
       "model_id": "d5a601adc95a41718341d21638738b15",
       "version_major": 2,
       "version_minor": 0
      },
      "text/plain": [
       "  0%|          | 0/63 [00:00<?, ?it/s]"
      ]
     },
     "metadata": {},
     "output_type": "display_data"
    },
    {
     "data": {
      "application/vnd.jupyter.widget-view+json": {
       "model_id": "36492655f54640b3afb3fc59e59fdfda",
       "version_major": 2,
       "version_minor": 0
      },
      "text/plain": [
       "  0%|          | 0/250 [00:00<?, ?it/s]"
      ]
     },
     "metadata": {},
     "output_type": "display_data"
    },
    {
     "data": {
      "application/vnd.jupyter.widget-view+json": {
       "model_id": "0d618a677c114161a71381eed8cf5dfc",
       "version_major": 2,
       "version_minor": 0
      },
      "text/plain": [
       "  0%|          | 0/63 [00:00<?, ?it/s]"
      ]
     },
     "metadata": {},
     "output_type": "display_data"
    },
    {
     "data": {
      "application/vnd.jupyter.widget-view+json": {
       "model_id": "165ddacffbe14537b08f0610c0536d9f",
       "version_major": 2,
       "version_minor": 0
      },
      "text/plain": [
       "  0%|          | 0/250 [00:00<?, ?it/s]"
      ]
     },
     "metadata": {},
     "output_type": "display_data"
    },
    {
     "data": {
      "application/vnd.jupyter.widget-view+json": {
       "model_id": "ff4cb7e93620415795c5f3db9af6b7c9",
       "version_major": 2,
       "version_minor": 0
      },
      "text/plain": [
       "  0%|          | 0/63 [00:00<?, ?it/s]"
      ]
     },
     "metadata": {},
     "output_type": "display_data"
    },
    {
     "data": {
      "application/vnd.jupyter.widget-view+json": {
       "model_id": "7bfddfc51ea64aa9838af6ef2d1fded5",
       "version_major": 2,
       "version_minor": 0
      },
      "text/plain": [
       "  0%|          | 0/250 [00:00<?, ?it/s]"
      ]
     },
     "metadata": {},
     "output_type": "display_data"
    },
    {
     "data": {
      "application/vnd.jupyter.widget-view+json": {
       "model_id": "97eaddedf2bb467ebde14d9aef96e5a3",
       "version_major": 2,
       "version_minor": 0
      },
      "text/plain": [
       "  0%|          | 0/63 [00:00<?, ?it/s]"
      ]
     },
     "metadata": {},
     "output_type": "display_data"
    },
    {
     "data": {
      "application/vnd.jupyter.widget-view+json": {
       "model_id": "7554d49490224a9aa6db283d84983728",
       "version_major": 2,
       "version_minor": 0
      },
      "text/plain": [
       "  0%|          | 0/250 [00:00<?, ?it/s]"
      ]
     },
     "metadata": {},
     "output_type": "display_data"
    },
    {
     "data": {
      "application/vnd.jupyter.widget-view+json": {
       "model_id": "80aef94839374e48bc3a56e4ef91070a",
       "version_major": 2,
       "version_minor": 0
      },
      "text/plain": [
       "  0%|          | 0/63 [00:00<?, ?it/s]"
      ]
     },
     "metadata": {},
     "output_type": "display_data"
    },
    {
     "data": {
      "application/vnd.jupyter.widget-view+json": {
       "model_id": "dae7f59f8e2849efb6064f55325b2179",
       "version_major": 2,
       "version_minor": 0
      },
      "text/plain": [
       "  0%|          | 0/250 [00:00<?, ?it/s]"
      ]
     },
     "metadata": {},
     "output_type": "display_data"
    },
    {
     "data": {
      "application/vnd.jupyter.widget-view+json": {
       "model_id": "ecf29df6ad7548aab45e812703b2f9f0",
       "version_major": 2,
       "version_minor": 0
      },
      "text/plain": [
       "  0%|          | 0/63 [00:00<?, ?it/s]"
      ]
     },
     "metadata": {},
     "output_type": "display_data"
    },
    {
     "data": {
      "application/vnd.jupyter.widget-view+json": {
       "model_id": "db9f34dfc84f4b9f9840d440b55f3725",
       "version_major": 2,
       "version_minor": 0
      },
      "text/plain": [
       "  0%|          | 0/250 [00:00<?, ?it/s]"
      ]
     },
     "metadata": {},
     "output_type": "display_data"
    },
    {
     "data": {
      "application/vnd.jupyter.widget-view+json": {
       "model_id": "83f5c47abd9e4551803ab94a513b24f0",
       "version_major": 2,
       "version_minor": 0
      },
      "text/plain": [
       "  0%|          | 0/63 [00:00<?, ?it/s]"
      ]
     },
     "metadata": {},
     "output_type": "display_data"
    }
   ],
   "source": [
    "X_data, y_data = generate_lp_dataset(NUM_SAMPLES, VECTOR_DIM, p=1.0, max_val=MAX_VAL)\n",
    "X_data = torch.FloatTensor(encode_temporal(X_data, TIME_STEPS)) # TN(2D)\n",
    "y_data = torch.FloatTensor(y_data) / y_data.max() # ND\n",
    "dataset = torch.utils.data.TensorDataset(X_data.transpose(1, 0), y_data)  # TN(2D) -> NT(2D)\n",
    "\n",
    "train_test_split:Callable[[np.ndarray, float, int], tuple[np.ndarray, np.ndarray]] = train_test_split\n",
    "train_set, test_set = train_test_split(dataset, test_size=0.2, random_state=42)\n",
    "\n",
    "train_loader = torch.utils.data.DataLoader(\n",
    "    train_set,\n",
    "    batch_size=32,\n",
    "    shuffle=True,\n",
    "    drop_last=False\n",
    "    )\n",
    "test_loader = torch.utils.data.DataLoader(\n",
    "    test_set,\n",
    "    batch_size=32,\n",
    "    shuffle=False,\n",
    "    drop_last=False\n",
    ")\n",
    "\n",
    "criterion = torch.nn.MSELoss()\n",
    "optimizer = torch.optim.Adam(model.parameters(), lr=1e-3)\n",
    "loss = torch.tensor(float(\"inf\"))\n",
    "\n",
    "pbar = tqdm(range(20))\n",
    "for epoch in pbar:\n",
    "    model.train()\n",
    "    for batch in tqdm(train_loader, leave=False):\n",
    "        inputs:Float[Tensor, \"N T 2D\"]; targets:Float[Tensor, \"N D\"]\n",
    "        inputs, targets = batch\n",
    "        inputs = inputs.to(device); targets = targets.to(device)\n",
    "        # 모델 학습 코드 추가\n",
    "        out:Float[Tensor, \"N D\"] = model(inputs.transpose(1, 0)) # NT(2D)->TND->model->ND\n",
    "        loss = criterion(out, targets)\n",
    "        \n",
    "        optimizer.zero_grad()\n",
    "        loss.backward(retain_graph=True)\n",
    "        optimizer.step()\n",
    "        pbar.set_postfix({\"loss\": loss.item()})\n",
    "    \n",
    "    with torch.no_grad():\n",
    "        model.eval()\n",
    "        for batch in tqdm(test_loader, leave=False):\n",
    "            inputs, targets = batch\n",
    "            inputs = inputs.to(device); targets = targets.to(device)\n",
    "            # 모델 학습 코드 추가\n",
    "            out = model(inputs.transpose(1, 0)) # NT(2D)->TND->model->ND\n",
    "            \n",
    "            loss = criterion(out, targets)\n",
    "            pbar.set_postfix({\"loss\": loss.item(), \"pred\": out[0].item(), \"target\": targets[0].item()})\n",
    "        \n",
    "        "
   ]
  },
  {
   "cell_type": "code",
   "execution_count": 24,
   "id": "60e94fce",
   "metadata": {},
   "outputs": [],
   "source": [
    "sample = dataset[0:10]\n",
    "inputs, targets = sample\n",
    "inputs = inputs.to(device); targets = targets.to(device)\n",
    "out = model(inputs.transpose(1, 0))"
   ]
  },
  {
   "cell_type": "code",
   "execution_count": 25,
   "id": "2f78563c",
   "metadata": {},
   "outputs": [
    {
     "data": {
      "text/plain": [
       "tensor([[0.0000, 0.2851],\n",
       "        [0.0000, 0.5489],\n",
       "        [0.0000, 0.2824],\n",
       "        [0.0000, 0.6193],\n",
       "        [0.0000, 0.3226],\n",
       "        [0.0000, 0.5060],\n",
       "        [0.0000, 0.4093],\n",
       "        [0.0000, 0.5624],\n",
       "        [0.0000, 0.6035],\n",
       "        [0.0000, 0.5745]], device='cuda:0')"
      ]
     },
     "execution_count": 25,
     "metadata": {},
     "output_type": "execute_result"
    }
   ],
   "source": [
    "torch.hstack((out, targets))"
   ]
  },
  {
   "cell_type": "code",
   "execution_count": null,
   "id": "1c533125",
   "metadata": {},
   "outputs": [],
   "source": []
  }
 ],
 "metadata": {
  "kernelspec": {
   "display_name": "dt",
   "language": "python",
   "name": "python3"
  },
  "language_info": {
   "codemirror_mode": {
    "name": "ipython",
    "version": 3
   },
   "file_extension": ".py",
   "mimetype": "text/x-python",
   "name": "python",
   "nbconvert_exporter": "python",
   "pygments_lexer": "ipython3",
   "version": "3.12.12"
  }
 },
 "nbformat": 4,
 "nbformat_minor": 5
}
